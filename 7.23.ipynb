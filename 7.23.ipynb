{
 "cells": [
  {
   "cell_type": "markdown",
   "metadata": {},
   "source": [
    "# 对象和类\n",
    "- 一个学生，一张桌子，一个圆都是对象\n",
    "- 对象是类的一个实例，你可以创建多个对象，创建类的一个实例过程被称为实例化，\n",
    "- 在Python中对象就是实例，而实例就是对象"
   ]
  },
  {
   "cell_type": "markdown",
   "metadata": {},
   "source": [
    "## 定义类\n",
    "class ClassName:#class标识量\n",
    "\n",
    "    do something\n",
    "    \n",
    "- class 类的表示与def 一样\n",
    "- 类名最好使用驼峰式\n",
    "- 在Python2中类是需要继承基类object的，在Python中默认继承，可写可不写\n",
    "- 可以将普通代码理解为皮肤，而函数可以理解为内衣，那么类可以理解为外套"
   ]
  },
  {
   "cell_type": "code",
   "execution_count": 17,
   "metadata": {},
   "outputs": [],
   "source": [
    "# 类必须初始化，是用self,初始化自身。\n",
    "# 类里面所有的函数中的第一个变量不再是参数，而是一个印记。\n",
    "#在类中，如果有参数需要多次使用，那么久可以将其设置为共享参数。\n",
    "class fengfengai:\n",
    "    def __init__(self):\n",
    "        print('我初始化了')\n",
    "    def print_(self):\n",
    "        print('fengfengai hahaha')"
   ]
  },
  {
   "cell_type": "code",
   "execution_count": 18,
   "metadata": {},
   "outputs": [
    {
     "name": "stdout",
     "output_type": "stream",
     "text": [
      "我初始化了\n"
     ]
    }
   ],
   "source": [
    "tina = fengfengai()#代表直接走初始化函数"
   ]
  },
  {
   "cell_type": "code",
   "execution_count": 20,
   "metadata": {},
   "outputs": [
    {
     "name": "stdout",
     "output_type": "stream",
     "text": [
      "fengfengai hahaha\n"
     ]
    }
   ],
   "source": [
    "tina .print_()"
   ]
  },
  {
   "cell_type": "code",
   "execution_count": 38,
   "metadata": {},
   "outputs": [],
   "source": [
    "class Mjn:\n",
    "    def __init__(self,num):\n",
    "        print('我初始化了')\n",
    "    def jiou(num):\n",
    "        if num%2==0:\n",
    "            print('偶数')\n",
    "        elif num%2!=0:\n",
    "            print('奇数')\n",
    "    def pingrun(num2):\n",
    "        if num2%4 == 0 and num2 %  100!= 0 or num2 % 400 == 0:\n",
    "            print('闰年')\n",
    "        else:\n",
    "            print('平年')"
   ]
  },
  {
   "cell_type": "code",
   "execution_count": 39,
   "metadata": {},
   "outputs": [
    {
     "name": "stdout",
     "output_type": "stream",
     "text": [
      "我初始化了\n"
     ]
    }
   ],
   "source": [
    "tina=Mjn(num=1)"
   ]
  },
  {
   "cell_type": "code",
   "execution_count": 40,
   "metadata": {},
   "outputs": [
    {
     "name": "stdout",
     "output_type": "stream",
     "text": [
      "奇数\n"
     ]
    }
   ],
   "source": [
    "Mjn.jiou(num=5)"
   ]
  },
  {
   "cell_type": "code",
   "execution_count": 42,
   "metadata": {},
   "outputs": [
    {
     "name": "stdout",
     "output_type": "stream",
     "text": [
      "平年\n"
     ]
    }
   ],
   "source": [
    "Mjn.pingrun(num2=2019)"
   ]
  },
  {
   "cell_type": "code",
   "execution_count": 44,
   "metadata": {},
   "outputs": [],
   "source": [
    "class Mjn:\n",
    "    def __init__(self,num1,num2):\n",
    "        print('我初始化了')\n",
    "        self.num1=num1\n",
    "        self.num2=num2\n",
    "    def jiou(self):\n",
    "        if self.num1%2==0:\n",
    "            print('偶数')\n",
    "        elif self.num1%2!=0:\n",
    "            print('奇数')\n",
    "    def pingrun(self):\n",
    "        if self.num2%4 == 0 and self.num2 %  100!= 0 or self.num2 % 400 == 0:\n",
    "            print('闰年')\n",
    "        else:\n",
    "            print('平年')"
   ]
  },
  {
   "cell_type": "code",
   "execution_count": 46,
   "metadata": {},
   "outputs": [
    {
     "name": "stdout",
     "output_type": "stream",
     "text": [
      "我初始化了\n"
     ]
    }
   ],
   "source": [
    "Lyf=Mjn(num1=26,num2=2055)"
   ]
  },
  {
   "cell_type": "code",
   "execution_count": 48,
   "metadata": {},
   "outputs": [
    {
     "name": "stdout",
     "output_type": "stream",
     "text": [
      "偶数\n"
     ]
    }
   ],
   "source": [
    "Lyf.jiou()"
   ]
  },
  {
   "cell_type": "code",
   "execution_count": 49,
   "metadata": {},
   "outputs": [
    {
     "name": "stdout",
     "output_type": "stream",
     "text": [
      "平年\n"
     ]
    }
   ],
   "source": [
    "Lyf.pingrun()"
   ]
  },
  {
   "cell_type": "markdown",
   "metadata": {},
   "source": [
    "## 定义一个不含初始化__init__的简单类\n",
    "class ClassName:\n",
    "\n",
    "    joker = “Home”\n",
    "    \n",
    "    def func():\n",
    "        print('Worker')\n",
    "    \n",
    "- 尽量少使用"
   ]
  },
  {
   "cell_type": "markdown",
   "metadata": {},
   "source": [
    "\n",
    "\n",
    "## 定义一个标准类\n",
    "- __init__ 代表初始化，可以初始化任何动作\n",
    "- 此时类调用要使用()，其中（）可以理解为开始初始化\n",
    "- 初始化内的元素，类中其他的函数可以共享\n",
    "![](../Photo/85.png)"
   ]
  },
  {
   "cell_type": "markdown",
   "metadata": {},
   "source": [
    "- Circle 和 className_ 的第一个区别有 __init__ 这个函数\n",
    "- 。。。。   第二个区别，类中的每一个函数都有self的这个“参数”"
   ]
  },
  {
   "cell_type": "markdown",
   "metadata": {},
   "source": [
    "## 何为self？\n",
    "- self 是指向对象本身的参数\n",
    "- self 只是一个命名规则，其实可以改变的，但是我们约定俗成的是self，也便于理解\n",
    "- 使用了self就可以访问类中定义的成员\n",
    "<img src=\"../Photo/86.png\"></img>"
   ]
  },
  {
   "cell_type": "markdown",
   "metadata": {},
   "source": [
    "## 使用类 Cirlcle"
   ]
  },
  {
   "cell_type": "markdown",
   "metadata": {},
   "source": [
    "## 类的传参\n",
    "- class ClassName:\n",
    "    \n",
    "        def __init__(self, para1,para2...)：\n",
    "            \n",
    "            self.para1 = para1\n",
    "            \n",
    "            self.para2 = para2"
   ]
  },
  {
   "cell_type": "markdown",
   "metadata": {},
   "source": [
    "## EP:\n",
    "- A：定义一个类，类中含有两个功能：\n",
    "    - 1、产生3个随机数，获取最大值\n",
    "    - 2、产生3个随机数，获取最小值\n",
    "- B：定义一个类，（类中函数的嵌套使用）\n",
    "    - 1、第一个函数的功能为：输入一个数字\n",
    "    - 2、第二个函数的功能为：使用第一个函数中得到的数字进行平方处理\n",
    "    - 3、第三个函数的功能为：得到平方处理后的数字 - 原来输入的数字，并打印结果"
   ]
  },
  {
   "cell_type": "code",
   "execution_count": 50,
   "metadata": {},
   "outputs": [],
   "source": [
    "import random"
   ]
  },
  {
   "cell_type": "code",
   "execution_count": 66,
   "metadata": {},
   "outputs": [],
   "source": [
    "class Hhh:\n",
    "    def __init__(self):\n",
    "        print('我初始化了！')\n",
    "        self.num1=random.randint(1,20)\n",
    "        self.num2=random.randint(1,20)\n",
    "        self.num3=random.randint(1,20)\n",
    "        print(self.num1,self.num2,self.num3)\n",
    "    def zuida(self):\n",
    "        return max(self.num1,self.num2,self.num3)\n",
    "    def zuixiao(self):\n",
    "        return min(self.num1,self.num2,self.num3)"
   ]
  },
  {
   "cell_type": "code",
   "execution_count": 68,
   "metadata": {},
   "outputs": [
    {
     "name": "stdout",
     "output_type": "stream",
     "text": [
      "我初始化了！\n",
      "14 12 1\n"
     ]
    }
   ],
   "source": [
    "Ddd=Hhh()"
   ]
  },
  {
   "cell_type": "code",
   "execution_count": 69,
   "metadata": {},
   "outputs": [
    {
     "data": {
      "text/plain": [
       "14"
      ]
     },
     "execution_count": 69,
     "metadata": {},
     "output_type": "execute_result"
    }
   ],
   "source": [
    "Ddd.zuida()"
   ]
  },
  {
   "cell_type": "code",
   "execution_count": 70,
   "metadata": {},
   "outputs": [
    {
     "data": {
      "text/plain": [
       "1"
      ]
     },
     "execution_count": 70,
     "metadata": {},
     "output_type": "execute_result"
    }
   ],
   "source": [
    "Ddd.zuixiao()"
   ]
  },
  {
   "cell_type": "code",
   "execution_count": 88,
   "metadata": {},
   "outputs": [],
   "source": [
    "class Ggg:\n",
    "    def __init__(self):\n",
    "        print('我初始化了！')\n",
    "    def shuru(self):\n",
    "        self.shu=eval(input('请输入数字：'))\n",
    "    def pingfang(self):\n",
    "        return self.shu**2\n",
    "    def dayin(self):\n",
    "        print('数字为：',self.shu,'平方后为：',self.shu**2)\n",
    "        "
   ]
  },
  {
   "cell_type": "code",
   "execution_count": 89,
   "metadata": {},
   "outputs": [
    {
     "name": "stdout",
     "output_type": "stream",
     "text": [
      "我初始化了！\n"
     ]
    }
   ],
   "source": [
    "Uuu=Ggg()"
   ]
  },
  {
   "cell_type": "code",
   "execution_count": 90,
   "metadata": {},
   "outputs": [
    {
     "name": "stdout",
     "output_type": "stream",
     "text": [
      "请输入数字：10\n"
     ]
    }
   ],
   "source": [
    "Uuu.shuru()"
   ]
  },
  {
   "cell_type": "code",
   "execution_count": 91,
   "metadata": {},
   "outputs": [
    {
     "data": {
      "text/plain": [
       "100"
      ]
     },
     "execution_count": 91,
     "metadata": {},
     "output_type": "execute_result"
    }
   ],
   "source": [
    "Uuu.pingfang()"
   ]
  },
  {
   "cell_type": "code",
   "execution_count": 92,
   "metadata": {},
   "outputs": [
    {
     "name": "stdout",
     "output_type": "stream",
     "text": [
      "数字为： 10 平方后为： 100\n"
     ]
    }
   ],
   "source": [
    "Uuu.dayin()"
   ]
  },
  {
   "cell_type": "code",
   "execution_count": 141,
   "metadata": {},
   "outputs": [],
   "source": [
    "class Denglu:\n",
    "    def __init__(self):\n",
    "        print('我初始化啦！')\n",
    "    def zhanghao(self):\n",
    "        QQ=eval(input('请输入账号:'))\n",
    "    def password(self):\n",
    "        mima=eval(input('请输入密码：'))\n",
    "        mima1=123456789\n",
    "        if mima==mima1:\n",
    "            print('登陆成功！')\n",
    "        elif mima!=mima1:\n",
    "            print('账号或密码输入错误！')\n",
    "            yanzhengma1=random.randint(0,10000)\n",
    "            print(yanzhengma1)\n",
    "            yan=eval(input('请输入验证码：'))\n",
    "            if yan==yanzhengma1:\n",
    "                print('登陆成功！')                                    "
   ]
  },
  {
   "cell_type": "code",
   "execution_count": 142,
   "metadata": {},
   "outputs": [
    {
     "name": "stdout",
     "output_type": "stream",
     "text": [
      "我初始化啦！\n"
     ]
    }
   ],
   "source": [
    "Dl=Denglu()"
   ]
  },
  {
   "cell_type": "code",
   "execution_count": null,
   "metadata": {},
   "outputs": [],
   "source": [
    "Dl.zhanghao()"
   ]
  },
  {
   "cell_type": "code",
   "execution_count": 125,
   "metadata": {},
   "outputs": [
    {
     "name": "stdout",
     "output_type": "stream",
     "text": [
      "请输入密码：111\n",
      "密码输入错误！\n",
      "1972\n",
      "请输入验证码：111\n",
      "验证码输入错误！\n"
     ]
    }
   ],
   "source": [
    "Dl.password()"
   ]
  },
  {
   "cell_type": "code",
   "execution_count": 1,
   "metadata": {},
   "outputs": [],
   "source": [
    "import random\n",
    "class Tina:\n",
    "    def __init__(self):\n",
    "        self.account = '123'\n",
    "        self.password = '456'\n",
    "    def Account(self):\n",
    "        self.acc = input('请输入账号：')\n",
    "    def Password(self):\n",
    "        self.passwor = input('请输入密码：')\n",
    "    def Check(self):\n",
    "        if self.acc == self.account and self.passwor == self.password:\n",
    "            print('Success')\n",
    "        else:\n",
    "            self.Verify()\n",
    "    def Verify(self):\n",
    "        Verify_Var = 123\n",
    "        print('验证码是：',Verify_Var)\n",
    "        while 1:\n",
    "            User_Verify = eval(input('请输入验证码：'))\n",
    "            if User_Verify == Verify_Var:\n",
    "                print('Failed')\n",
    "                break\n",
    "    def Start(self):\n",
    "        self.Account()\n",
    "        self.Password()\n",
    "        self.Check()\n"
   ]
  },
  {
   "cell_type": "code",
   "execution_count": 2,
   "metadata": {},
   "outputs": [],
   "source": [
    "QQ=Tina()"
   ]
  },
  {
   "cell_type": "code",
   "execution_count": 4,
   "metadata": {},
   "outputs": [
    {
     "name": "stdout",
     "output_type": "stream",
     "text": [
      "请输入账号：123\n",
      "请输入密码：456\n",
      "Success\n"
     ]
    }
   ],
   "source": [
    "QQ.Start()"
   ]
  },
  {
   "cell_type": "markdown",
   "metadata": {},
   "source": [
    "## 类的继承\n",
    "- 类的单继承\n",
    "- 类的多继承\n",
    "- 继承标识\n",
    ">  class SonClass(FatherClass):\n",
    "            \n",
    "            def __init__(self):\n",
    "            \n",
    "                FatherClass.__init__(self)"
   ]
  },
  {
   "cell_type": "code",
   "execution_count": 6,
   "metadata": {},
   "outputs": [],
   "source": [
    "##私有变量不可被继承，不可被调用"
   ]
  },
  {
   "cell_type": "code",
   "execution_count": 5,
   "metadata": {},
   "outputs": [
    {
     "ename": "NameError",
     "evalue": "name 'bb' is not defined",
     "output_type": "error",
     "traceback": [
      "\u001b[1;31m---------------------------------------------------------------------------\u001b[0m",
      "\u001b[1;31mNameError\u001b[0m                                 Traceback (most recent call last)",
      "\u001b[1;32m<ipython-input-5-86fe3b542523>\u001b[0m in \u001b[0;36m<module>\u001b[1;34m\u001b[0m\n\u001b[1;32m----> 1\u001b[1;33m \u001b[0mbb\u001b[0m\u001b[1;33m,\u001b[0m\u001b[0m__dir__\u001b[0m\u001b[1;33m(\u001b[0m\u001b[1;33m)\u001b[0m\u001b[1;33m\u001b[0m\u001b[1;33m\u001b[0m\u001b[0m\n\u001b[0m",
      "\u001b[1;31mNameError\u001b[0m: name 'bb' is not defined"
     ]
    }
   ],
   "source": [
    "bb,__dir__()"
   ]
  },
  {
   "cell_type": "markdown",
   "metadata": {},
   "source": [
    "## 私有数据域(私有变量，或者私有函数)\n",
    "- 在Python中 变量名或者函数名使用双下划线代表私有  \\__Joker,   def \\__Joker():\n",
    "- 私有数据域不可继承\n",
    "- 私有数据域强制继承   \\__dir__()"
   ]
  },
  {
   "cell_type": "markdown",
   "metadata": {},
   "source": [
    "![](../Photo/87.png)"
   ]
  },
  {
   "cell_type": "markdown",
   "metadata": {},
   "source": [
    "## EP:\n",
    "![](../Photo/88.png)\n",
    "![](../Photo/89.png)\n",
    "![](../Photo/90.png)\n"
   ]
  },
  {
   "cell_type": "markdown",
   "metadata": {},
   "source": [
    "## 类的其他\n",
    "- 类的封装\n",
    "    - 实际上就是将一类功能放在一起，方便未来进行管理\n",
    "- 类的继承（上面已经讲过）\n",
    "- 类的多态\n",
    "    - 包括装饰器：将放在以后处理高级类中教\n",
    "    - 装饰器的好处：当许多类中的函数需要使用同一个功能的时候，那么使用装饰器就会方便许多\n",
    "    - 装饰器是有固定的写法\n",
    "        - 其包括普通装饰器与带参装饰器"
   ]
  },
  {
   "cell_type": "markdown",
   "metadata": {},
   "source": [
    "# Homewor\n",
    "## UML类图可以不用画\n",
    "## UML 实际上就是一个思维图\n",
    "- 1\n",
    "![](../Photo/91.png)"
   ]
  },
  {
   "cell_type": "code",
   "execution_count": 6,
   "metadata": {},
   "outputs": [],
   "source": [
    "class Rectangle:\n",
    "    def __init__(self):\n",
    "        print('我初始化了！')\n",
    "        self.width=int(1)\n",
    "        self.height=int(2)\n",
    "    def getArea(self):\n",
    "        self.S=self.width*self.height\n",
    "        print('面积为：',self.S)\n",
    "    def getPerimeter(self):\n",
    "        self.C=(self.width+self.height)*2\n",
    "        print('周长为：',self.C)"
   ]
  },
  {
   "cell_type": "code",
   "execution_count": 7,
   "metadata": {},
   "outputs": [
    {
     "name": "stdout",
     "output_type": "stream",
     "text": [
      "我初始化了！\n"
     ]
    }
   ],
   "source": [
    "mjn=Rectangle()"
   ]
  },
  {
   "cell_type": "code",
   "execution_count": 8,
   "metadata": {},
   "outputs": [
    {
     "name": "stdout",
     "output_type": "stream",
     "text": [
      "面积为： 2\n"
     ]
    }
   ],
   "source": [
    "mjn.getArea()"
   ]
  },
  {
   "cell_type": "code",
   "execution_count": 9,
   "metadata": {},
   "outputs": [
    {
     "name": "stdout",
     "output_type": "stream",
     "text": [
      "周长为： 6\n"
     ]
    }
   ],
   "source": [
    "mjn.getPerimeter()"
   ]
  },
  {
   "cell_type": "markdown",
   "metadata": {},
   "source": [
    "- 2\n",
    "![](../Photo/92.png)"
   ]
  },
  {
   "cell_type": "code",
   "execution_count": null,
   "metadata": {},
   "outputs": [],
   "source": [
    "class Account:\n",
    "    def __init__(self):\n",
    "        print('我初始化啦！')\n",
    "    def id"
   ]
  },
  {
   "cell_type": "code",
   "execution_count": null,
   "metadata": {},
   "outputs": [],
   "source": []
  },
  {
   "cell_type": "markdown",
   "metadata": {},
   "source": [
    "- 3\n",
    "![](../Photo/93.png)"
   ]
  },
  {
   "cell_type": "code",
   "execution_count": 10,
   "metadata": {},
   "outputs": [],
   "source": [
    "class Fan1:\n",
    "    def __init__(self):\n",
    "        print('我初始化啦！')\n",
    "    def speed(self):\n",
    "        self._slow=int(1)              #默认值速度为1\n",
    "        self._medium=int(2)             #默认值为2\n",
    "        self._fast=int(3)                 #默认值速度为3\n",
    "        self._r=int(5)                 #默认值半径为5\n",
    "        self.Color='blue'                  #默认值蓝色\n",
    "        self.K='false'                        #默认值关\n",
    "        print('风扇的速度：',self._slow,'半径为：',self._r,'颜色是：',self.Color,self.K) "
   ]
  },
  {
   "cell_type": "code",
   "execution_count": 11,
   "metadata": {},
   "outputs": [
    {
     "name": "stdout",
     "output_type": "stream",
     "text": [
      "我初始化啦！\n"
     ]
    }
   ],
   "source": [
    "lyf=Fan1()"
   ]
  },
  {
   "cell_type": "code",
   "execution_count": 12,
   "metadata": {},
   "outputs": [
    {
     "name": "stdout",
     "output_type": "stream",
     "text": [
      "风扇的速度： 1 半径为： 5 颜色是： blue false\n"
     ]
    }
   ],
   "source": [
    "lyf.speed()"
   ]
  },
  {
   "cell_type": "code",
   "execution_count": 13,
   "metadata": {},
   "outputs": [
    {
     "name": "stdout",
     "output_type": "stream",
     "text": [
      "我初始化啦！\n",
      "风扇的速度： 3 半径为： 10 颜色是： yellow 开\n"
     ]
    }
   ],
   "source": [
    "class Fan2:\n",
    "    def __init__(self):\n",
    "        print('我初始化啦！')\n",
    "    def speed(self):\n",
    "        self._slow=int(3)               #默认值为3\n",
    "        self._medium=int(2)               #默认值为2\n",
    "        self._fast=int(3)                   #默认值速度为3\n",
    "        self._r=int(10)                     #默认值半径为10\n",
    "        self.Color='yellow'                          #默认颜色为黄色\n",
    "        self.K='开'                                 #默认值开\n",
    "        print('风扇的速度：',self._slow,'半径为：',self._r,'颜色是：',self.Color,self.K)\n",
    "mjn=Fan2()\n",
    "mjn.speed()"
   ]
  },
  {
   "cell_type": "markdown",
   "metadata": {},
   "source": [
    "- 4\n",
    "![](../Photo/94.png)\n",
    "![](../Photo/95.png)"
   ]
  },
  {
   "cell_type": "code",
   "execution_count": 14,
   "metadata": {},
   "outputs": [],
   "source": [
    "import math"
   ]
  },
  {
   "cell_type": "code",
   "execution_count": 15,
   "metadata": {},
   "outputs": [],
   "source": [
    "class RegularPolygon:\n",
    "    def __init__(self):\n",
    "        print('我初始化了')\n",
    "        self.__n=int(3)\n",
    "        '''\n",
    "        The default value is 3\n",
    "        '''\n",
    "        self.__side=float(1)\n",
    "        '''\n",
    "        The default value is 1\n",
    "        '''\n",
    "        self.__x=float(0)\n",
    "        '''\n",
    "        default value\n",
    "        '''\n",
    "        self.__y=float(0)\n",
    "        '''\n",
    "        default value\n",
    "        '''\n",
    "    def getPerimeter(self):\n",
    "        self.__C=self.__n*self.__side\n",
    "        '''\n",
    "        Perimeter is equal to the length of the sides times the number of sides\n",
    "        '''\n",
    "        \n",
    "        print(self.__n,'边形周长：',self.__C)\n",
    "    def getArea(self):\n",
    "        self.__Area=(self.__n*(self.__side**2))/4*math.tan(math.pi/self.__n)\n",
    "        '''\n",
    "        Area of formula\n",
    "        '''\n",
    "        print(self.__n,'边形面积：',self.__Area)"
   ]
  },
  {
   "cell_type": "code",
   "execution_count": 16,
   "metadata": {},
   "outputs": [
    {
     "name": "stdout",
     "output_type": "stream",
     "text": [
      "我初始化了\n"
     ]
    }
   ],
   "source": [
    "lll=RegularPolygon()"
   ]
  },
  {
   "cell_type": "code",
   "execution_count": 17,
   "metadata": {},
   "outputs": [
    {
     "name": "stdout",
     "output_type": "stream",
     "text": [
      "3 边形周长： 3.0\n"
     ]
    }
   ],
   "source": [
    "lll.getPerimeter()"
   ]
  },
  {
   "cell_type": "code",
   "execution_count": 18,
   "metadata": {},
   "outputs": [
    {
     "name": "stdout",
     "output_type": "stream",
     "text": [
      "3 边形面积： 1.2990381056766576\n"
     ]
    }
   ],
   "source": [
    "lll.getArea()"
   ]
  },
  {
   "cell_type": "code",
   "execution_count": 19,
   "metadata": {},
   "outputs": [],
   "source": [
    "class RegularPolygon:\n",
    "    def __init__(self):\n",
    "        print('我初始化了')\n",
    "        self.__n=int(6)\n",
    "        '''\n",
    "        The default value is 6\n",
    "        '''\n",
    "        self.__side=float(4)\n",
    "        '''\n",
    "        The default value is 4\n",
    "        '''\n",
    "        self.__x=float(0)\n",
    "        '''\n",
    "        default value\n",
    "        '''\n",
    "        self.__y=float(0)\n",
    "        '''\n",
    "        default value\n",
    "        '''\n",
    "    def getPerimeter(self):\n",
    "        self.__C=self.__n*self.__side\n",
    "        '''\n",
    "        Perimeter is equal to the length of the sides times the number of sides\n",
    "        '''\n",
    "        \n",
    "        print(self.__n,'边形周长：',self.__C)\n",
    "    def getArea(self):\n",
    "        self.__Area=(self.__n*(self.__side**2))/4*math.tan(math.pi/self.__n)\n",
    "        '''\n",
    "        Area of formula\n",
    "        '''\n",
    "        print(self.__n,'边形面积：',self.__Area)"
   ]
  },
  {
   "cell_type": "code",
   "execution_count": 20,
   "metadata": {},
   "outputs": [
    {
     "name": "stdout",
     "output_type": "stream",
     "text": [
      "我初始化了\n"
     ]
    }
   ],
   "source": [
    "ppp=RegularPolygon()"
   ]
  },
  {
   "cell_type": "code",
   "execution_count": 21,
   "metadata": {},
   "outputs": [
    {
     "name": "stdout",
     "output_type": "stream",
     "text": [
      "6 边形周长： 24.0\n"
     ]
    }
   ],
   "source": [
    "ppp.getPerimeter()"
   ]
  },
  {
   "cell_type": "code",
   "execution_count": 22,
   "metadata": {},
   "outputs": [
    {
     "name": "stdout",
     "output_type": "stream",
     "text": [
      "6 边形面积： 13.856406460551018\n"
     ]
    }
   ],
   "source": [
    "ppp.getArea()"
   ]
  },
  {
   "cell_type": "markdown",
   "metadata": {},
   "source": [
    "- 5\n",
    "![](../Photo/96.png)"
   ]
  },
  {
   "cell_type": "code",
   "execution_count": 16,
   "metadata": {},
   "outputs": [],
   "source": [
    "class LinearEquation:\n",
    "    def __init__(self):\n",
    "        print('我初始化啦！')\n",
    "    def get(self):\n",
    "        self.a=eval(input('请输入a值:'))\n",
    "        self.b=eval(input('请输入b值:'))\n",
    "        self.c=eval(input('请输入c值:'))\n",
    "        self.d=eval(input('请输入d值:'))\n",
    "        self.e=eval(input('请输入e值:'))\n",
    "        self.f=eval(input('请输入f值:'))\n",
    "        '''\n",
    "        Enter the value of abcdef\n",
    "        '''\n",
    "    def fangcheng(self):\n",
    "        A=self.e*self.d-self.b*self.f\n",
    "        B=self.a*self.d-self.b*self.c\n",
    "        C=self.a*self.f-self.e*self.c\n",
    "        '''\n",
    "        formula\n",
    "        '''\n",
    "        if B==0:            \n",
    "            print('方程无解')\n",
    "        elif B!=0:\n",
    "            self.x=A/B\n",
    "            self.y=C/B\n",
    "            print('X=',round(self.x,2),'Y=',round(self.y,2))"
   ]
  },
  {
   "cell_type": "code",
   "execution_count": 17,
   "metadata": {},
   "outputs": [
    {
     "name": "stdout",
     "output_type": "stream",
     "text": [
      "我初始化啦！\n"
     ]
    }
   ],
   "source": [
    "ch=LinearEquation()"
   ]
  },
  {
   "cell_type": "code",
   "execution_count": 18,
   "metadata": {},
   "outputs": [
    {
     "name": "stdout",
     "output_type": "stream",
     "text": [
      "请输入a值:1\n",
      "请输入b值:1\n",
      "请输入c值:1\n",
      "请输入d值:2\n",
      "请输入e值:2\n",
      "请输入f值:2\n"
     ]
    }
   ],
   "source": [
    "ch.get()"
   ]
  },
  {
   "cell_type": "code",
   "execution_count": 20,
   "metadata": {},
   "outputs": [
    {
     "name": "stdout",
     "output_type": "stream",
     "text": [
      "X= 2.0 Y= 0.0\n"
     ]
    }
   ],
   "source": [
    "ch.fangcheng()"
   ]
  },
  {
   "cell_type": "markdown",
   "metadata": {},
   "source": [
    "- 6\n",
    "![](../Photo/97.png)"
   ]
  },
  {
   "cell_type": "code",
   "execution_count": 26,
   "metadata": {},
   "outputs": [],
   "source": [
    "class LinearEquation:\n",
    "    def __init__(self):\n",
    "        print('我初始化啦！')\n",
    "    def dian(self):\n",
    "        self.x1,self.y1,self.x2,self.y2=eval(input('Enter the endpoints of the first line segment:'))\n",
    "        '''\n",
    "        Enter the two endpoints of the first line\n",
    "        '''\n",
    "        self.x3,self.y3,self.x4,self.y4=eval(input('Enter the endpoints of the second line segment:'))\n",
    "        '''\n",
    "        Enter two endpoints of the second line\n",
    "        '''\n",
    "    def xian(self):\n",
    "        self.Lk1=(self.y2-self.y1)/(self.x2-self.x1)\n",
    "        '''\n",
    "        Slope of the first line\n",
    "        '''\n",
    "        self.Lb1=(1/2)*(self.y1+self.y2-((self.y1-self.y2)*(self.x1-self.x2))/(self.x1-self.x2))\n",
    "        '''\n",
    "        jieju of the first line\n",
    "        '''\n",
    "        self.Lk2=(self.y4-self.y3)/(self.x4-self.x3)\n",
    "        '''\n",
    "        Slope of the second line\n",
    "        '''\n",
    "        self.Lb2=(1/2)*(self.y4+self.y3-((self.y4-self.y3)*(self.x4-self.x3))/(self.x4-self.x3))\n",
    "        '''\n",
    "        jieju of the second line\n",
    "        '''\n",
    "        print('第一条直线斜率为:',self.Lk1,'第一条直线截距为:',self.Lb1)\n",
    "        print('第二条直线斜率为:',self.Lk2,'第二条直线截距为:',self.Lb2)\n",
    "    def jiaodian(self):\n",
    "        self.X=(self.Lb2-self.Lb1)/(self.Lk1-self.Lk2)\n",
    "        '''\n",
    "        jiao dian heng zuo biao\n",
    "        '''\n",
    "        self.Y=self.Lk1*((self.Lb2-self.Lb1)/(self.Lk1-self.Lk2))+self.Lb1\n",
    "        '''\n",
    "        jiao dian zong zuo biao\n",
    "        '''\n",
    "        print('The intersecting point is',self.X,self.Y)"
   ]
  },
  {
   "cell_type": "code",
   "execution_count": 27,
   "metadata": {},
   "outputs": [
    {
     "name": "stdout",
     "output_type": "stream",
     "text": [
      "我初始化啦！\n"
     ]
    }
   ],
   "source": [
    "lzx=LinearEquation()"
   ]
  },
  {
   "cell_type": "code",
   "execution_count": 28,
   "metadata": {},
   "outputs": [
    {
     "name": "stdout",
     "output_type": "stream",
     "text": [
      "Enter the endpoints of the first line segment:2.0,2.0,0,0\n",
      "Enter the endpoints of the second line segment:0,2.0,2.0,0\n"
     ]
    }
   ],
   "source": [
    "lzx.dian()"
   ]
  },
  {
   "cell_type": "code",
   "execution_count": 29,
   "metadata": {},
   "outputs": [
    {
     "name": "stdout",
     "output_type": "stream",
     "text": [
      "第一条直线斜率为: 1.0 第一条直线截距为: 0.0\n",
      "第二条直线斜率为: -1.0 第二条直线截距为: 2.0\n"
     ]
    }
   ],
   "source": [
    "lzx.xian()"
   ]
  },
  {
   "cell_type": "code",
   "execution_count": 30,
   "metadata": {},
   "outputs": [
    {
     "name": "stdout",
     "output_type": "stream",
     "text": [
      "The intersecting point is 1.0 1.0\n"
     ]
    }
   ],
   "source": [
    "lzx.jiaodian()"
   ]
  },
  {
   "cell_type": "markdown",
   "metadata": {},
   "source": [
    "- 7\n",
    "![](../Photo/98.png)"
   ]
  }
 ],
 "metadata": {
  "kernelspec": {
   "display_name": "Python 3",
   "language": "python",
   "name": "python3"
  },
  "language_info": {
   "codemirror_mode": {
    "name": "ipython",
    "version": 3
   },
   "file_extension": ".py",
   "mimetype": "text/x-python",
   "name": "python",
   "nbconvert_exporter": "python",
   "pygments_lexer": "ipython3",
   "version": "3.7.3"
  }
 },
 "nbformat": 4,
 "nbformat_minor": 2
}
