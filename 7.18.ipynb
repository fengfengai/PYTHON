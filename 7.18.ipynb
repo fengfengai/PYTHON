{
 "cells": [
  {
   "cell_type": "markdown",
   "metadata": {},
   "source": [
    "# 选择\n",
    "## 布尔类型、数值和表达式\n",
    "![](../Photo/33.png)\n",
    "- 注意：比较运算符的相等是两个等号，一个等到代表赋值\n",
    "- 在Python中可以用整型0来代表False，其他数字来代表True\n",
    "- 后面还会讲到 is 在判断语句中的用发"
   ]
  },
  {
   "cell_type": "code",
   "execution_count": 1,
   "metadata": {},
   "outputs": [
    {
     "data": {
      "text/plain": [
       "True"
      ]
     },
     "execution_count": 1,
     "metadata": {},
     "output_type": "execute_result"
    }
   ],
   "source": [
    "a=1\n",
    "b=1\n",
    "a==b"
   ]
  },
  {
   "cell_type": "code",
   "execution_count": 3,
   "metadata": {},
   "outputs": [
    {
     "data": {
      "text/plain": [
       "False"
      ]
     },
     "execution_count": 3,
     "metadata": {},
     "output_type": "execute_result"
    }
   ],
   "source": [
    "0 is 1"
   ]
  },
  {
   "cell_type": "markdown",
   "metadata": {},
   "source": [
    "## 字符串的比较使用ASCII值"
   ]
  },
  {
   "cell_type": "code",
   "execution_count": 4,
   "metadata": {},
   "outputs": [
    {
     "data": {
      "text/plain": [
       "True"
      ]
     },
     "execution_count": 4,
     "metadata": {},
     "output_type": "execute_result"
    }
   ],
   "source": [
    "a='mmjn'\n",
    "b='lyf'\n",
    "a>b"
   ]
  },
  {
   "cell_type": "markdown",
   "metadata": {},
   "source": [
    "## Markdown \n",
    "- https://github.com/younghz/Markdown"
   ]
  },
  {
   "cell_type": "code",
   "execution_count": 6,
   "metadata": {},
   "outputs": [
    {
     "data": {
      "text/plain": [
       "True"
      ]
     },
     "execution_count": 6,
     "metadata": {},
     "output_type": "execute_result"
    }
   ],
   "source": [
    "bool(4)"
   ]
  },
  {
   "cell_type": "markdown",
   "metadata": {},
   "source": [
    "## EP:\n",
    "- <img src=\"../Photo/34.png\"></img>\n",
    "- 输入一个数字，判断其实奇数还是偶数"
   ]
  },
  {
   "cell_type": "code",
   "execution_count": 8,
   "metadata": {},
   "outputs": [
    {
     "ename": "NameError",
     "evalue": "name 'condition' is not defined",
     "output_type": "error",
     "traceback": [
      "\u001b[1;31m---------------------------------------------------------------------------\u001b[0m",
      "\u001b[1;31mNameError\u001b[0m                                 Traceback (most recent call last)",
      "\u001b[1;32m<ipython-input-8-cc67d50afefa>\u001b[0m in \u001b[0;36m<module>\u001b[1;34m\u001b[0m\n\u001b[1;32m----> 1\u001b[1;33m \u001b[1;32mif\u001b[0m \u001b[0mcondition\u001b[0m\u001b[1;33m:\u001b[0m\u001b[1;33m\u001b[0m\u001b[1;33m\u001b[0m\u001b[0m\n\u001b[0m\u001b[0;32m      2\u001b[0m     \u001b[1;32mpass\u001b[0m\u001b[1;33m\u001b[0m\u001b[1;33m\u001b[0m\u001b[0m\n\u001b[0;32m      3\u001b[0m \u001b[1;32melse\u001b[0m\u001b[1;33m:\u001b[0m\u001b[1;33m\u001b[0m\u001b[1;33m\u001b[0m\u001b[0m\n\u001b[0;32m      4\u001b[0m     \u001b[1;32mpass\u001b[0m\u001b[1;33m\u001b[0m\u001b[1;33m\u001b[0m\u001b[0m\n",
      "\u001b[1;31mNameError\u001b[0m: name 'condition' is not defined"
     ]
    }
   ],
   "source": [
    "if condition:\n",
    "    pass\n",
    "else:\n",
    "    pass"
   ]
  },
  {
   "cell_type": "code",
   "execution_count": 13,
   "metadata": {},
   "outputs": [
    {
     "name": "stdout",
     "output_type": "stream",
     "text": [
      "请输入一个数字5\n",
      "奇数\n"
     ]
    }
   ],
   "source": [
    "a=eval(input('请输入一个数字'))\n",
    "if a%2==0: \n",
    "    print('偶数')\n",
    "if a%2!=0:\n",
    "    print('奇数')\n"
   ]
  },
  {
   "cell_type": "markdown",
   "metadata": {},
   "source": [
    "## 产生随机数字\n",
    "- 函数random.randint(a,b) 可以用来产生一个a和b之间且包括a和b的随机整数(区间)"
   ]
  },
  {
   "cell_type": "markdown",
   "metadata": {},
   "source": [
    "产生一个随机数，你去输入，如果你输入的数大于随机数，那么就告诉你太大了，反之，太小了，\n",
    "然后你一直输入，知道它满意为止"
   ]
  },
  {
   "cell_type": "code",
   "execution_count": 14,
   "metadata": {},
   "outputs": [],
   "source": [
    "import random"
   ]
  },
  {
   "cell_type": "code",
   "execution_count": 15,
   "metadata": {},
   "outputs": [
    {
     "data": {
      "text/plain": [
       "8"
      ]
     },
     "execution_count": 15,
     "metadata": {},
     "output_type": "execute_result"
    }
   ],
   "source": [
    "random.randint(6,8)"
   ]
  },
  {
   "cell_type": "code",
   "execution_count": 29,
   "metadata": {},
   "outputs": [],
   "source": [
    "a=random.randint(6,8)"
   ]
  },
  {
   "cell_type": "code",
   "execution_count": 37,
   "metadata": {},
   "outputs": [
    {
     "name": "stdout",
     "output_type": "stream",
     "text": [
      "请输入一个数字5\n",
      "数字太小\n",
      "请输入一个数字8\n",
      "数字太大\n",
      "请输入一个数字7\n",
      "答对了！\n"
     ]
    }
   ],
   "source": [
    "while 1:\n",
    "    b=eval(input('请输入一个数字'))\n",
    "    if b>a:\n",
    "        print('数字太大')\n",
    "    if b<a:\n",
    "        print('数字太小')\n",
    "    if b==a:\n",
    "        print('答对了！')\n",
    "        break"
   ]
  },
  {
   "cell_type": "markdown",
   "metadata": {},
   "source": [
    "##  其他random方法\n",
    "- random.random 返回0.0到1.0之间前闭后开区间的随机浮点\n",
    "- random.randrange(a,b) 前闭后开"
   ]
  },
  {
   "cell_type": "markdown",
   "metadata": {},
   "source": [
    "## EP：\n",
    "- 产生两个随机整数number1和number2，然后显示给用户，使用户输入数字的和，并判定其是否正确\n",
    "- 进阶:写一个随机序号点名程序"
   ]
  },
  {
   "cell_type": "code",
   "execution_count": 1,
   "metadata": {},
   "outputs": [],
   "source": [
    "import random"
   ]
  },
  {
   "cell_type": "code",
   "execution_count": 8,
   "metadata": {},
   "outputs": [
    {
     "name": "stdout",
     "output_type": "stream",
     "text": [
      "数字为： 12 7\n",
      "请输入数字之和19\n",
      "正确\n",
      "数字为： 12 7\n",
      "请输入数字之和15\n",
      "错误\n",
      "数字为： 12 7\n",
      "请输入数字之和58\n",
      "错误\n",
      "数字为： 12 7\n",
      "请输入数字之和654\n",
      "错误\n",
      "数字为： 12 7\n",
      "请输入数字之和854\n",
      "错误\n"
     ]
    }
   ],
   "source": [
    "a=random.randint(6,12)\n",
    "b=random.randint(7,11)\n",
    "for i in range(5):\n",
    "    print('数字为：',a,b)\n",
    "    c=eval(input('请输入数字之和'))\n",
    "    if c!=a+b:\n",
    "        print('错误')\n",
    "    if c==a+b:\n",
    "        print('正确')   "
   ]
  },
  {
   "cell_type": "code",
   "execution_count": 2,
   "metadata": {},
   "outputs": [],
   "source": [
    "import random"
   ]
  },
  {
   "cell_type": "code",
   "execution_count": 4,
   "metadata": {},
   "outputs": [
    {
     "name": "stdout",
     "output_type": "stream",
     "text": [
      "请输入一个整数12\n",
      "1 可以整除\n",
      "2 可以整除\n",
      "3 可以整除\n",
      "4 可以整除\n",
      "6 可以整除\n"
     ]
    }
   ],
   "source": [
    "a=eval(input('请输入一个整数'))\n",
    "for i in range(1,a):\n",
    "    if a%i==0:\n",
    "        print(i,'可以整除')"
   ]
  },
  {
   "cell_type": "markdown",
   "metadata": {},
   "source": [
    "## if语句\n",
    "- 如果条件正确就执行一个单向if语句，亦即当条件为真的时候才执行if内部的语句\n",
    "- Python有很多选择语句:\n",
    "> - 单向if \n",
    "  - 双向if-else\n",
    "  - 嵌套if\n",
    "  - 多向if-elif-else\n",
    "  \n",
    "- 注意：当语句含有子语句的时候，那么一定至少要有一个缩进，也就是说如果有儿子存在，那么一定要缩进\n",
    "- 切记不可tab键和space混用，单用tab 或者 space\n",
    "- 当你输出的结果是无论if是否为真时都需要显示时，语句应该与if对齐"
   ]
  },
  {
   "cell_type": "markdown",
   "metadata": {},
   "source": [
    "## EP：\n",
    "- 用户输入一个数字，判断其实奇数还是偶数\n",
    "- 进阶：可以查看下4.5实例研究猜生日"
   ]
  },
  {
   "cell_type": "markdown",
   "metadata": {},
   "source": [
    "## 双向if-else 语句\n",
    "- 如果条件为真，那么走if内部语句，否则走else内部语句"
   ]
  },
  {
   "cell_type": "code",
   "execution_count": 1,
   "metadata": {},
   "outputs": [
    {
     "name": "stdout",
     "output_type": "stream",
     "text": [
      "1代表是，0代表否\n",
      "请输入一个人名李易峰\n",
      "是否有钱(1或0)1\n",
      "他帅吗(1或0)1\n",
      "他有老婆吗(1或0)0\n",
      "领证！\n"
     ]
    }
   ],
   "source": [
    "print('1代表是，0代表否')\n",
    "a=input('请输入一个人名')\n",
    "b=eval(input('是否有钱(1或0)'))\n",
    "yes=1\n",
    "no=0\n",
    "if b==yes:\n",
    "    c=eval(input('他帅吗(1或0)'))\n",
    "    if c==yes:\n",
    "        d=eval(input('他有老婆吗(1或0)'))\n",
    "        if d==no:\n",
    "            print('领证！')\n",
    "        else:\n",
    "            print('滚')\n",
    "    else:\n",
    "        print('滚')\n",
    "else:\n",
    "    print('滚')"
   ]
  },
  {
   "cell_type": "code",
   "execution_count": null,
   "metadata": {},
   "outputs": [],
   "source": []
  },
  {
   "cell_type": "markdown",
   "metadata": {},
   "source": [
    "## EP：\n",
    "- 产生两个随机整数number1和number2，然后显示给用户，使用户输入数字，并判定其是否正确,如果正确打印“you‘re correct”，否则打印正确错误"
   ]
  },
  {
   "cell_type": "markdown",
   "metadata": {},
   "source": [
    "## 嵌套if 和多向if-elif-else\n",
    "![](../Photo/35.png)"
   ]
  },
  {
   "cell_type": "code",
   "execution_count": 5,
   "metadata": {},
   "outputs": [
    {
     "name": "stdout",
     "output_type": "stream",
     "text": [
      "1代表是，0代表否\n",
      "请输入一个人名李易峰\n",
      "是否有钱(1或0)1\n",
      "他帅吗(1或0)1\n",
      "他有老婆吗(1或0)0\n",
      "领证！\n"
     ]
    }
   ],
   "source": [
    "print('1代表是，0代表否')\n",
    "a=input('请输入一个人名')\n",
    "b=eval(input('是否有钱(1或0)'))\n",
    "yes=1\n",
    "no=0\n",
    "if b==yes:\n",
    "    c=eval(input('他帅吗(1或0)'))\n",
    "elif b==no:\n",
    "    print('滚')\n",
    "if c==yes:\n",
    "    d=eval(input('他有老婆吗(1或0)'))\n",
    "elif c==no:\n",
    "    print('滚')\n",
    "if d==yes:\n",
    "    print('滚')\n",
    "elif d==no:\n",
    "    print('领证！')\n",
    "    "
   ]
  },
  {
   "cell_type": "markdown",
   "metadata": {},
   "source": [
    "## EP：\n",
    "- 提示用户输入一个年份，然后显示表示这一年的动物\n",
    "![](../Photo/36.png)\n",
    "- 计算身体质量指数的程序\n",
    "- BMI = 以千克为单位的体重除以以米为单位的身高的平方\n",
    "![](../Photo/37.png)"
   ]
  },
  {
   "cell_type": "code",
   "execution_count": 13,
   "metadata": {},
   "outputs": [
    {
     "name": "stdout",
     "output_type": "stream",
     "text": [
      "请输入年份1987\n",
      "兔\n"
     ]
    }
   ],
   "source": [
    "a=eval(input('请输入年份'))\n",
    "b=a%12\n",
    "if b==0:\n",
    "    print('猴')\n",
    "elif b==1:\n",
    "    print('鸡')\n",
    "elif b==2:\n",
    "    print('狗')\n",
    "elif b==3:\n",
    "    print('猪')\n",
    "elif b==4:\n",
    "    print('鼠')\n",
    "elif b==5:\n",
    "    print('牛')\n",
    "elif b==6:\n",
    "    print('虎')\n",
    "elif b==7:\n",
    "    print('兔')\n",
    "elif b==8:\n",
    "    print('龙')\n",
    "elif b==9:\n",
    "    print('蛇')\n",
    "elif b==10:\n",
    "    print('马')\n",
    "else:\n",
    "    print('羊')"
   ]
  },
  {
   "cell_type": "code",
   "execution_count": 16,
   "metadata": {},
   "outputs": [
    {
     "name": "stdout",
     "output_type": "stream",
     "text": [
      "注意：身高单位为米，体重单位为千克\n",
      "请输入身高1.82\n",
      "请输入体重70\n",
      "标准\n"
     ]
    }
   ],
   "source": [
    "print('注意：身高单位为米，体重单位为千克')\n",
    "H=eval(input('请输入身高'))\n",
    "W=eval(input('请输入体重'))\n",
    "BMI=W/(H*H)\n",
    "if BMI<18.5:\n",
    "    print('超轻')\n",
    "elif BMI>=18.5 and BMI<25.0:\n",
    "    print('标准')\n",
    "elif BMI>=25.0 and BMI<30.0:\n",
    "    print('超重')\n",
    "else:\n",
    "    print('痴肥')"
   ]
  },
  {
   "cell_type": "markdown",
   "metadata": {},
   "source": [
    "## 逻辑运算符\n",
    "![](../Photo/38.png)"
   ]
  },
  {
   "cell_type": "markdown",
   "metadata": {},
   "source": [
    "![](../Photo/39.png)\n",
    "![](../Photo/40.png)"
   ]
  },
  {
   "cell_type": "markdown",
   "metadata": {},
   "source": [
    "## EP：\n",
    "- 判定闰年：一个年份如果能被4整除但不能被100整除，或者能被400整除，那么这个年份就是闰年\n",
    "- 提示用户输入一个年份，并返回是否是闰年\n",
    "- 提示用户输入一个数字，判断其是否为水仙花数"
   ]
  },
  {
   "cell_type": "code",
   "execution_count": 22,
   "metadata": {},
   "outputs": [
    {
     "name": "stdout",
     "output_type": "stream",
     "text": [
      "请输入一个年份:1999\n",
      "平年\n"
     ]
    }
   ],
   "source": [
    "a=eval(input('请输入一个年份:'))\n",
    "if a%4==0 and a%100!=0 or a%400==0:\n",
    "    print('闰年')\n",
    "else:\n",
    "    print('平年')"
   ]
  },
  {
   "cell_type": "code",
   "execution_count": 17,
   "metadata": {},
   "outputs": [
    {
     "name": "stdout",
     "output_type": "stream",
     "text": [
      "153, 370, 371, 407, "
     ]
    }
   ],
   "source": [
    "import math\n",
    "\n",
    "for i in range(100, 1000):\n",
    "    x = math.floor(i/100)  #获得百位数\n",
    "    y = math.floor((i - x*100)/10)  #获得十位数\n",
    "    z = i - math.floor(i/10) *10  #获得个位数\n",
    "    if i == x**3 + y**3 + z**3:\n",
    "        print(i, end=', ')"
   ]
  },
  {
   "cell_type": "code",
   "execution_count": 41,
   "metadata": {},
   "outputs": [
    {
     "name": "stdout",
     "output_type": "stream",
     "text": [
      "153 是水仙花数\n",
      "370 是水仙花数\n",
      "371 是水仙花数\n",
      "407 是水仙花数\n"
     ]
    }
   ],
   "source": [
    "for a in range(100, 1000):\n",
    "    x=a//100\n",
    "    y=a//10%10\n",
    "    z=a%10\n",
    "    if a==x**3+y**3+z**3:\n",
    "        print(a,'是水仙花数')"
   ]
  },
  {
   "cell_type": "code",
   "execution_count": 31,
   "metadata": {},
   "outputs": [
    {
     "data": {
      "text/plain": [
       "99"
      ]
     },
     "execution_count": 31,
     "metadata": {},
     "output_type": "execute_result"
    }
   ],
   "source": [
    "999//10\n"
   ]
  },
  {
   "cell_type": "markdown",
   "metadata": {},
   "source": [
    "## 实例研究：彩票\n",
    "![](../Photo/41.png)"
   ]
  },
  {
   "cell_type": "markdown",
   "metadata": {},
   "source": [
    "# Homework\n",
    "- 1\n",
    "![](../Photo/42.png)"
   ]
  },
  {
   "cell_type": "code",
   "execution_count": 9,
   "metadata": {},
   "outputs": [],
   "source": [
    "import math"
   ]
  },
  {
   "cell_type": "code",
   "execution_count": 7,
   "metadata": {},
   "outputs": [
    {
     "name": "stdout",
     "output_type": "stream",
     "text": [
      "请依次输入a，b，c的值：1,3,1\n",
      "5\n",
      "-0.3819660112501051 -2.618033988749895\n"
     ]
    }
   ],
   "source": [
    "a,b,c=eval(input('请依次输入a，b，c的值：'))\n",
    "A=b*b-4*a*c\n",
    "r1=(-1*b+(b*b-4*a*c)**(1/2))/2*a\n",
    "r2=(-1*b-(b*b-4*a*c)**(1/2))/2*a\n",
    "print(A)\n",
    "if A>0:\n",
    "    print(r1,r2)\n",
    "elif A<0:\n",
    "    print('The equation has no real roots')\n",
    "else:\n",
    "    print(r1)"
   ]
  },
  {
   "cell_type": "markdown",
   "metadata": {},
   "source": [
    "- 2\n",
    "![](../Photo/43.png)"
   ]
  },
  {
   "cell_type": "code",
   "execution_count": 23,
   "metadata": {},
   "outputs": [],
   "source": [
    "import random"
   ]
  },
  {
   "cell_type": "code",
   "execution_count": 28,
   "metadata": {},
   "outputs": [
    {
     "name": "stdout",
     "output_type": "stream",
     "text": [
      "两个数字分别为： 66 51\n",
      "请输入两数之和：117\n",
      "判断结果为：Ture\n"
     ]
    }
   ],
   "source": [
    "a=random.randint(0,100)\n",
    "b=random.randint(0,100)\n",
    "print('两个数字分别为：',a,b)\n",
    "c=eval(input('请输入两数之和：'))\n",
    "if c==a+b:\n",
    "    print('判断结果为：Ture')\n",
    "else:\n",
    "    print('判断结果为：False')"
   ]
  },
  {
   "cell_type": "markdown",
   "metadata": {},
   "source": [
    "- 3\n",
    "![](../Photo/44.png)"
   ]
  },
  {
   "cell_type": "code",
   "execution_count": 1,
   "metadata": {},
   "outputs": [
    {
     "name": "stdout",
     "output_type": "stream",
     "text": [
      "请输入代表数字：0\n",
      "请输入到未来某天的天数：31\n",
      "星期 3\n"
     ]
    }
   ],
   "source": [
    "a=eval(input('请输入代表数字：'))\n",
    "b=eval(input('请输入到未来某天的天数：'))\n",
    "c=a+b\n",
    "d=(a+b)%7\n",
    "if c<=6:\n",
    "    print('星期',c)\n",
    "elif c>6:\n",
    "    print('星期',d)"
   ]
  },
  {
   "cell_type": "markdown",
   "metadata": {},
   "source": [
    "- 4\n",
    "![](../Photo/45.png)"
   ]
  },
  {
   "cell_type": "code",
   "execution_count": 2,
   "metadata": {},
   "outputs": [
    {
     "name": "stdout",
     "output_type": "stream",
     "text": [
      "请输入三个整数：21,52,67\n",
      "21 52 67\n"
     ]
    }
   ],
   "source": [
    "a,b,c=eval(input('请输入三个整数：'))\n",
    "if a>b>c:\n",
    "    print(c,b,a)\n",
    "elif a>c>b:\n",
    "    print(b,c,a)\n",
    "elif b>a>c:\n",
    "    print(c,a,b)\n",
    "elif b>c>a:\n",
    "    print(a,c,b)\n",
    "elif c>b>a:\n",
    "    print(a,b,c)\n",
    "elif c>a>b:\n",
    "    print(b,a,c)"
   ]
  },
  {
   "cell_type": "markdown",
   "metadata": {},
   "source": [
    "- 5\n",
    "![](../Photo/46.png)"
   ]
  },
  {
   "cell_type": "code",
   "execution_count": 10,
   "metadata": {},
   "outputs": [
    {
     "name": "stdout",
     "output_type": "stream",
     "text": [
      "请输入包装的重量和价钱：50,24.59\n",
      "请输入包装的重量和价钱：25,11.99\n",
      "第二种价钱更好\n"
     ]
    }
   ],
   "source": [
    "a,b=eval(input('请输入包装的重量和价钱：'))\n",
    "c,d=eval(input('请输入包装的重量和价钱：'))\n",
    "A=b/a\n",
    "B=d/c\n",
    "if A>B:\n",
    "    print('第二种价钱更好')\n",
    "elif A<B:\n",
    "    print('第一种价钱更好')"
   ]
  },
  {
   "cell_type": "markdown",
   "metadata": {},
   "source": [
    "- 6\n",
    "![](../Photo/47.png)"
   ]
  },
  {
   "cell_type": "code",
   "execution_count": 13,
   "metadata": {},
   "outputs": [
    {
     "name": "stdout",
     "output_type": "stream",
     "text": [
      "请输入月份及年份：2,2000\n",
      "2000 年 2 月份有29天\n"
     ]
    }
   ],
   "source": [
    "a,b=eval(input('请输入月份及年份：'))\n",
    "if a==1 or a==3 or a==5 or a==7 or a==8 or a==10 or a==12:\n",
    "    print(b,'年',a,'月份有31天')\n",
    "elif a==4 or a==6 or a==9 or a==11:\n",
    "    print(b,'年',a,'月份有30天')\n",
    "elif a==2 and b%4==0 and b%100!=0 or b%400==0:\n",
    "    print(b,'年',a,'月份有29天')\n",
    "else:\n",
    "    print(b,'年',a,'月份有28天')"
   ]
  },
  {
   "cell_type": "markdown",
   "metadata": {},
   "source": [
    "- 7\n",
    "![](../Photo/48.png)"
   ]
  },
  {
   "cell_type": "code",
   "execution_count": 9,
   "metadata": {},
   "outputs": [],
   "source": [
    "import random"
   ]
  },
  {
   "cell_type": "code",
   "execution_count": 12,
   "metadata": {},
   "outputs": [
    {
     "name": "stdout",
     "output_type": "stream",
     "text": [
      "注意：0代表的是正面，1代表的是反面\n",
      "请输入猜测值：1\n",
      "正确\n"
     ]
    }
   ],
   "source": [
    "print('注意：0代表的是正面，1代表的是反面')\n",
    "a=eval(input('请输入猜测值：'))\n",
    "b=random.randint(0,1)\n",
    "if a==b:\n",
    "    print('正确')\n",
    "elif a!=b:\n",
    "    print('错误')\n"
   ]
  },
  {
   "cell_type": "markdown",
   "metadata": {},
   "source": [
    "- 8\n",
    "![](../Photo/49.png)"
   ]
  },
  {
   "cell_type": "code",
   "execution_count": 15,
   "metadata": {},
   "outputs": [
    {
     "name": "stdout",
     "output_type": "stream",
     "text": [
      "注意：0代表剪刀，1代表石头，2代表布\n",
      "请输入数字：2\n",
      "你赢了\n"
     ]
    }
   ],
   "source": [
    "print('注意：0代表剪刀，1代表石头，2代表布')\n",
    "a=eval(input('请输入数字：'))\n",
    "b=random.randint(0,2)\n",
    "if a==b:\n",
    "    print('平局')\n",
    "elif a==0 and b==1:\n",
    "    print('你输了')\n",
    "elif a==0 and b==2:\n",
    "    print('你赢了')\n",
    "elif a==1 and b==0:\n",
    "    print('你赢了')\n",
    "elif a==1 and b==2:\n",
    "    print('你输了')\n",
    "elif a==2 and b==0:\n",
    "    print('你输了')\n",
    "elif a==2 and b==1:\n",
    "    print('你赢了')"
   ]
  },
  {
   "cell_type": "markdown",
   "metadata": {},
   "source": [
    "- 9\n",
    "![](../Photo/50.png)"
   ]
  },
  {
   "cell_type": "code",
   "execution_count": 2,
   "metadata": {},
   "outputs": [
    {
     "name": "stdout",
     "output_type": "stream",
     "text": [
      "注意：0代表星期六，1代表星期天，2代表星期一，3代表星期二，4代表星期三，5代表星期四，6代表星期五\n",
      "请输入年份:2012\n",
      "请输入月份:5\n",
      "请输入日期:12\n",
      "0\n"
     ]
    }
   ],
   "source": [
    "print('注意：0代表星期六，1代表星期天，2代表星期一，3代表星期二，4代表星期三，5代表星期四，6代表星期五')\n",
    "y=eval(input('请输入年份:'))\n",
    "m=eval(input('请输入月份:'))\n",
    "q=eval(input('请输入日期:'))\n",
    "j=y//100\n",
    "k=y%100\n",
    "h=(q+(26*(m+1))//10+k+(k//4)+(j//4)+5*j)%7\n",
    "if m==1:\n",
    "    j=(y-1)//100\n",
    "    k=(y-1)%100    \n",
    "    h=(q+(26*(13+1))//10+k+(k//4)+(j//4)+5*j)%7\n",
    "    print(h)\n",
    "elif m==2:\n",
    "    j=(y-1)//100\n",
    "    k=(y-1)%100    \n",
    "    h=(q+(26*(14+1))//10+k+(k//4)+(j//4)+5*j)%7\n",
    "    print(h)    \n",
    "print(h)\n"
   ]
  },
  {
   "cell_type": "markdown",
   "metadata": {},
   "source": [
    "- 10\n",
    "![](../Photo/51.png)"
   ]
  },
  {
   "cell_type": "code",
   "execution_count": 5,
   "metadata": {},
   "outputs": [],
   "source": [
    "import random"
   ]
  },
  {
   "cell_type": "code",
   "execution_count": 76,
   "metadata": {},
   "outputs": [
    {
     "name": "stdout",
     "output_type": "stream",
     "text": [
      "方块 Ace\n"
     ]
    }
   ],
   "source": [
    "import random\n",
    "a=random.randint(1,13)\n",
    "b=random.randint(14,17)\n",
    "if a==1:\n",
    "    a=\"Ace\"\n",
    "if a==11:\n",
    "    a=\"Jack\"\n",
    "if a==12:\n",
    "    a=\"Queen\"\n",
    "if a==13:\n",
    "    a=\"King\"\n",
    "elif b==14:\n",
    "    b=\"梅花\"\n",
    "elif b==15:\n",
    "    b=\"红桃\"\n",
    "elif b==16:\n",
    "    b=\"方块\"\n",
    "elif b==17:\n",
    "    b=\"黑桃\"\n",
    "print(b,a)"
   ]
  },
  {
   "cell_type": "markdown",
   "metadata": {},
   "source": [
    "- 11\n",
    "![](../Photo/52.png)"
   ]
  },
  {
   "cell_type": "code",
   "execution_count": 32,
   "metadata": {},
   "outputs": [
    {
     "name": "stdout",
     "output_type": "stream",
     "text": [
      "请输入一个三位数：121\n",
      "121 是回文数\n"
     ]
    }
   ],
   "source": [
    "a=eval(input('请输入一个三位数：'))\n",
    "if a//100==a%100//10==a%10:\n",
    "    print(a,'是回文数')\n",
    "elif a//100==a%10:\n",
    "    print(a,'是回文数')\n",
    "else:\n",
    "    print(a,'不是回文数')"
   ]
  },
  {
   "cell_type": "markdown",
   "metadata": {},
   "source": [
    "- 12\n",
    "![](../Photo/53.png)"
   ]
  },
  {
   "cell_type": "code",
   "execution_count": 89,
   "metadata": {},
   "outputs": [
    {
     "name": "stdout",
     "output_type": "stream",
     "text": [
      "请依次输入三条边：1,1,1\n",
      "周长为： 3\n"
     ]
    }
   ],
   "source": [
    "a,b,c=eval(input('请依次输入三条边：'))\n",
    "C=a+b+c\n",
    "if a+b>c and abs(a-b)<c:\n",
    "    print('周长为：',C)\n",
    "else:\n",
    "    print('不能围成三角形')"
   ]
  }
 ],
 "metadata": {
  "kernelspec": {
   "display_name": "Python 3",
   "language": "python",
   "name": "python3"
  },
  "language_info": {
   "codemirror_mode": {
    "name": "ipython",
    "version": 3
   },
   "file_extension": ".py",
   "mimetype": "text/x-python",
   "name": "python",
   "nbconvert_exporter": "python",
   "pygments_lexer": "ipython3",
   "version": "3.7.3"
  }
 },
 "nbformat": 4,
 "nbformat_minor": 2
}
