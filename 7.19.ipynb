{
 "cells": [
  {
   "cell_type": "markdown",
   "metadata": {},
   "source": [
    "# 循环\n",
    "- 循环是一种控制语句块重复执行的结构\n",
    "- while  适用于广度遍历\n",
    "- for    开发中经常使用"
   ]
  },
  {
   "cell_type": "code",
   "execution_count": null,
   "metadata": {},
   "outputs": [],
   "source": [
    "master-works"
   ]
  },
  {
   "cell_type": "markdown",
   "metadata": {},
   "source": [
    "## while 循环\n",
    "- 当一个条件保持真的时候while循环重复执行语句\n",
    "- while 循环一定要有结束条件，否则很容易进入死循环\n",
    "- while 循环的语法是：\n",
    "\n",
    "    while loop-contunuation-conndition:\n",
    "\n",
    "        Statement"
   ]
  },
  {
   "cell_type": "code",
   "execution_count": 1,
   "metadata": {},
   "outputs": [
    {
     "name": "stdout",
     "output_type": "stream",
     "text": [
      "hahaha\n",
      "hahaha\n",
      "hahaha\n",
      "hahaha\n",
      "hahaha\n",
      "hahaha\n",
      "hahaha\n",
      "hahaha\n",
      "hahaha\n",
      "hahaha\n"
     ]
    }
   ],
   "source": [
    "i=0\n",
    "while i<10:\n",
    "    print('hahaha')\n",
    "    i =i+ 1"
   ]
  },
  {
   "cell_type": "markdown",
   "metadata": {},
   "source": [
    "## 示例：\n",
    "sum = 0\n",
    "\n",
    "i = 1\n",
    "\n",
    "while i <10:\n",
    "\n",
    "    sum = sum + i\n",
    "    i = i + 1"
   ]
  },
  {
   "cell_type": "markdown",
   "metadata": {},
   "source": [
    "## 错误示例：\n",
    "sum = 0\n",
    "\n",
    "i = 1\n",
    "\n",
    "while i <10:\n",
    "\n",
    "    sum = sum + i\n",
    "\n",
    "i = i + 1\n",
    "- 一旦进入死循环可按 Ctrl + c 停止"
   ]
  },
  {
   "cell_type": "markdown",
   "metadata": {},
   "source": [
    "## EP：\n",
    "![](../Photo/143.png)\n",
    "![](../Photo/144.png)"
   ]
  },
  {
   "cell_type": "markdown",
   "metadata": {},
   "source": [
    "# 验证码\n",
    "- 随机产生四个字母的验证码，如果正确，输出验证码正确。如果错误，产生新的验证码，用户重新输入。\n",
    "- 验证码只能输入三次，如果三次都错，返回“别爬了，我们小网站没什么好爬的”\n",
    "- 密码登录，如果三次错误，账号被锁定\n"
   ]
  },
  {
   "cell_type": "code",
   "execution_count": 3,
   "metadata": {},
   "outputs": [],
   "source": [
    "import random"
   ]
  },
  {
   "cell_type": "code",
   "execution_count": 3,
   "metadata": {},
   "outputs": [
    {
     "name": "stdout",
     "output_type": "stream",
     "text": [
      "9 0 5 6\n",
      "请输入四个数字2,5,8,0\n",
      "6 5 2 6\n",
      "请输入四个数字6,5,2,6\n",
      "验证码正确\n"
     ]
    }
   ],
   "source": [
    "import random\n",
    "a=random.randint(0,9)\n",
    "b=random.randint(0,9)\n",
    "c=random.randint(0,9)\n",
    "d=random.randint(0,9)\n",
    "print(a,b,c,d)\n",
    "q,w,e,r=eval(input('请输入四个数字'))\n",
    "while 1:\n",
    "    if (a,b,c,d)==(q,w,e,r):\n",
    "        print('验证码正确')\n",
    "        break\n",
    "    else:\n",
    "        a=random.randint(0,9)\n",
    "        b=random.randint(0,9)\n",
    "        c=random.randint(0,9)\n",
    "        d=random.randint(0,9)\n",
    "        print(a,b,c,d)\n",
    "        q,w,e,r=eval(input('请输入四个数字'))"
   ]
  },
  {
   "cell_type": "code",
   "execution_count": 1,
   "metadata": {},
   "outputs": [
    {
     "name": "stdout",
     "output_type": "stream",
     "text": [
      "4334\n",
      "请输入验证码1234\n",
      "9258\n",
      "请输入验证码9258\n",
      "验证码输入正确\n"
     ]
    }
   ],
   "source": [
    "import random\n",
    "number2=random.randint(1000,9999)\n",
    "print(number2)\n",
    "number1=eval(input('请输入验证码'))\n",
    "while 1:\n",
    "    if number1==number2:\n",
    "        print('验证码输入正确')\n",
    "        break\n",
    "    else:\n",
    "        number2=random.randint(1000,9999)\n",
    "        print(number2)\n",
    "        number1=eval(input('请输入验证码'))\n",
    "      \n",
    "        "
   ]
  },
  {
   "cell_type": "code",
   "execution_count": 1,
   "metadata": {},
   "outputs": [],
   "source": [
    "import random"
   ]
  },
  {
   "cell_type": "code",
   "execution_count": 2,
   "metadata": {},
   "outputs": [
    {
     "name": "stdout",
     "output_type": "stream",
     "text": [
      "1752\n",
      "请输入验证码1111\n",
      "请输入验证码1111\n",
      "请输入验证码1111\n",
      "请输入验证码1111\n",
      "别爬了\n"
     ]
    }
   ],
   "source": [
    "i=0\n",
    "while i<3:\n",
    "    number2=random.randint(1000,9999)\n",
    "    print(number2)\n",
    "    number1=eval(input('请输入验证码'))\n",
    "    while 1:\n",
    "        if number1==number2:\n",
    "            print('验证码输入正确')\n",
    "            break\n",
    "        else:           \n",
    "            number1=eval(input('请输入验证码'))\n",
    "            i += 1\n",
    "        if i==3:\n",
    "            print('别爬了')\n",
    "            break"
   ]
  },
  {
   "cell_type": "code",
   "execution_count": 3,
   "metadata": {},
   "outputs": [],
   "source": [
    "import random"
   ]
  },
  {
   "cell_type": "code",
   "execution_count": 4,
   "metadata": {},
   "outputs": [
    {
     "ename": "TypeError",
     "evalue": "join() takes exactly one argument (2 given)",
     "output_type": "error",
     "traceback": [
      "\u001b[1;31m---------------------------------------------------------------------------\u001b[0m",
      "\u001b[1;31mTypeError\u001b[0m                                 Traceback (most recent call last)",
      "\u001b[1;32m<ipython-input-4-6275a22a80b8>\u001b[0m in \u001b[0;36m<module>\u001b[1;34m\u001b[0m\n\u001b[0;32m      3\u001b[0m     \u001b[0ma\u001b[0m \u001b[1;33m=\u001b[0m \u001b[1;33m[\u001b[0m\u001b[0mchr\u001b[0m\u001b[1;33m(\u001b[0m\u001b[0mrandom\u001b[0m\u001b[1;33m.\u001b[0m\u001b[0mrandint\u001b[0m\u001b[1;33m(\u001b[0m\u001b[1;36m97\u001b[0m\u001b[1;33m,\u001b[0m\u001b[1;36m122\u001b[0m\u001b[1;33m)\u001b[0m\u001b[1;33m)\u001b[0m\u001b[1;33m]\u001b[0m\u001b[1;33m\u001b[0m\u001b[1;33m\u001b[0m\u001b[0m\n\u001b[0;32m      4\u001b[0m     \u001b[0mb\u001b[0m \u001b[1;33m=\u001b[0m \u001b[1;33m[\u001b[0m\u001b[0mchr\u001b[0m\u001b[1;33m(\u001b[0m\u001b[0mrandom\u001b[0m\u001b[1;33m.\u001b[0m\u001b[0mrandint\u001b[0m\u001b[1;33m(\u001b[0m\u001b[1;36m65\u001b[0m\u001b[1;33m,\u001b[0m\u001b[1;36m90\u001b[0m\u001b[1;33m)\u001b[0m\u001b[1;33m)\u001b[0m\u001b[1;33m]\u001b[0m\u001b[1;33m\u001b[0m\u001b[1;33m\u001b[0m\u001b[0m\n\u001b[1;32m----> 5\u001b[1;33m     \u001b[0mN\u001b[0m\u001b[1;33m=\u001b[0m\u001b[1;34m\"\"\u001b[0m\u001b[1;33m.\u001b[0m\u001b[0mjoin\u001b[0m\u001b[1;33m(\u001b[0m\u001b[0ma\u001b[0m\u001b[1;33m,\u001b[0m\u001b[0mb\u001b[0m\u001b[1;33m)\u001b[0m\u001b[1;33m\u001b[0m\u001b[1;33m\u001b[0m\u001b[0m\n\u001b[0m\u001b[0;32m      6\u001b[0m     \u001b[0mprint\u001b[0m\u001b[1;33m(\u001b[0m\u001b[1;34m'N'\u001b[0m\u001b[1;33m,\u001b[0m\u001b[0mN\u001b[0m\u001b[1;33m)\u001b[0m\u001b[1;33m\u001b[0m\u001b[1;33m\u001b[0m\u001b[0m\n\u001b[0;32m      7\u001b[0m     \u001b[0mme\u001b[0m \u001b[1;33m=\u001b[0m \u001b[0minput\u001b[0m\u001b[1;33m(\u001b[0m\u001b[1;34m'>>'\u001b[0m\u001b[1;33m)\u001b[0m\u001b[1;33m\u001b[0m\u001b[1;33m\u001b[0m\u001b[0m\n",
      "\u001b[1;31mTypeError\u001b[0m: join() takes exactly one argument (2 given)"
     ]
    }
   ],
   "source": [
    "i = 0\n",
    "while i<3:\n",
    "    a = [chr(random.randint(97,122))]\n",
    "    b = [chr(random.randint(65,90))]\n",
    "    N=\"\".join(a,b)\n",
    "    print('N',N)\n",
    "    me = input('>>')\n",
    "    if me==N:\n",
    "        print('correct')\n",
    "    else:\n",
    "        print('error')\n",
    "        i += 1\n",
    "    if i==3:\n",
    "        print('别爬了')"
   ]
  },
  {
   "cell_type": "markdown",
   "metadata": {},
   "source": [
    "## 尝试死循环"
   ]
  },
  {
   "cell_type": "markdown",
   "metadata": {},
   "source": [
    "## 实例研究：猜数字\n",
    "- 你将要编写一个能够随机生成一个0到10之间的且包括两者的数字程序，这个程序\n",
    "- 提示用户连续地输入数字直到正确，且提示用户输入的数字是过高还是过低"
   ]
  },
  {
   "cell_type": "markdown",
   "metadata": {},
   "source": [
    "## 使用哨兵值来控制循环\n",
    "- 哨兵值来表明输入的结束\n",
    "- ![](../Photo/54.png)"
   ]
  },
  {
   "cell_type": "markdown",
   "metadata": {},
   "source": [
    "## 警告\n",
    "![](../Photo/55.png)"
   ]
  },
  {
   "cell_type": "markdown",
   "metadata": {},
   "source": [
    "## for 循环\n",
    "- Python的for 循环通过一个序列中的每个值来进行迭代\n",
    "- range(a,b,k)， a，b，k 必须为整数\n",
    "- a: start\n",
    "- b: end\n",
    "- k: step\n",
    "- 注意for 是循环一切可迭代对象，而不是只能使用range"
   ]
  },
  {
   "cell_type": "code",
   "execution_count": 1,
   "metadata": {},
   "outputs": [
    {
     "name": "stdout",
     "output_type": "stream",
     "text": [
      "0\n",
      "1\n",
      "2\n",
      "3\n",
      "4\n",
      "5\n",
      "6\n",
      "7\n",
      "8\n",
      "9\n"
     ]
    }
   ],
   "source": [
    "for i in range(10):\n",
    "    print(i)##步长为1"
   ]
  },
  {
   "cell_type": "code",
   "execution_count": 2,
   "metadata": {},
   "outputs": [
    {
     "name": "stdout",
     "output_type": "stream",
     "text": [
      "0\n",
      "2\n",
      "4\n",
      "6\n",
      "8\n"
     ]
    }
   ],
   "source": [
    "for i  in range(0,10,2):\n",
    "    print(i)"
   ]
  },
  {
   "cell_type": "code",
   "execution_count": 3,
   "metadata": {},
   "outputs": [
    {
     "name": "stdout",
     "output_type": "stream",
     "text": [
      "1\n",
      "3\n",
      "5\n",
      "7\n",
      "9\n"
     ]
    }
   ],
   "source": [
    "for i in range(1,10,2):\n",
    "    print(i)"
   ]
  },
  {
   "cell_type": "code",
   "execution_count": 4,
   "metadata": {},
   "outputs": [
    {
     "name": "stdout",
     "output_type": "stream",
     "text": [
      "10\n",
      "9\n",
      "8\n",
      "7\n",
      "6\n",
      "5\n",
      "4\n",
      "3\n",
      "2\n",
      "1\n"
     ]
    }
   ],
   "source": [
    "for i in range(10,0,-1):\n",
    "    print(i)##for i in range(某个数)来控制循环次数 i 用_替换"
   ]
  },
  {
   "cell_type": "code",
   "execution_count": null,
   "metadata": {},
   "outputs": [],
   "source": [
    "{1,2,3}.__iter__"
   ]
  },
  {
   "cell_type": "code",
   "execution_count": 5,
   "metadata": {},
   "outputs": [
    {
     "data": {
      "text/plain": [
       "<method-wrapper '__iter__' of str object at 0x00000198DEBADDF8>"
      ]
     },
     "execution_count": 5,
     "metadata": {},
     "output_type": "execute_result"
    }
   ],
   "source": [
    "lyf ='mjn'\n",
    "lyf.__iter__"
   ]
  },
  {
   "cell_type": "code",
   "execution_count": 6,
   "metadata": {},
   "outputs": [
    {
     "name": "stdout",
     "output_type": "stream",
     "text": [
      "m\n",
      "j\n",
      "n\n"
     ]
    }
   ],
   "source": [
    "for i in lyf:\n",
    "    print(i)"
   ]
  },
  {
   "cell_type": "code",
   "execution_count": 7,
   "metadata": {},
   "outputs": [
    {
     "name": "stdout",
     "output_type": "stream",
     "text": [
      "0\n",
      "1\n",
      "2\n",
      "3\n",
      "4\n"
     ]
    }
   ],
   "source": [
    "for count in range(5):\n",
    "    print(count)"
   ]
  },
  {
   "cell_type": "markdown",
   "metadata": {},
   "source": [
    "# 在Python里面一切皆对象"
   ]
  },
  {
   "cell_type": "markdown",
   "metadata": {},
   "source": [
    "## EP:\n",
    "- ![](../Photo/145.png)"
   ]
  },
  {
   "cell_type": "code",
   "execution_count": 4,
   "metadata": {},
   "outputs": [
    {
     "name": "stdout",
     "output_type": "stream",
     "text": [
      "500500\n"
     ]
    }
   ],
   "source": [
    "i = 0\n",
    "sum = 0\n",
    "while i < 1001:\n",
    "    sum = sum + i\n",
    "    i += 1\n",
    "print(sum)"
   ]
  },
  {
   "cell_type": "code",
   "execution_count": 5,
   "metadata": {},
   "outputs": [
    {
     "name": "stdout",
     "output_type": "stream",
     "text": [
      "10011\n"
     ]
    }
   ],
   "source": [
    "sum_=0\n",
    "for i in range(1,10001):\n",
    "    sum_ += i\n",
    "    if sum_>10000:\n",
    "        break\n",
    "print(sum_)\n"
   ]
  },
  {
   "cell_type": "code",
   "execution_count": 6,
   "metadata": {},
   "outputs": [
    {
     "name": "stdout",
     "output_type": "stream",
     "text": [
      "0\n",
      "1\n",
      "2\n",
      "3\n",
      "4\n",
      "6\n",
      "7\n",
      "8\n",
      "9\n"
     ]
    }
   ],
   "source": [
    "for i in range(10):\n",
    "    if i==5:\n",
    "        continue\n",
    "    print(i)##也可以用pass和else的组合"
   ]
  },
  {
   "cell_type": "markdown",
   "metadata": {},
   "source": [
    "## 嵌套循环\n",
    "- 一个循环可以嵌套另一个循环\n",
    "- 每次循环外层时，内层循环都会被刷新重新完成循环\n",
    "- 也就是说，大循环执行一次，小循环会全部执行一次\n",
    "- 注意：\n",
    "> - 多层循环非常耗时\n",
    "  - 最多使用3层循环"
   ]
  },
  {
   "cell_type": "markdown",
   "metadata": {},
   "source": [
    "## EP：\n",
    "- 使用多层循环完成9X9乘法表\n",
    "- 显示50以内所有的素数"
   ]
  },
  {
   "cell_type": "code",
   "execution_count": 31,
   "metadata": {},
   "outputs": [
    {
     "name": "stdout",
     "output_type": "stream",
     "text": [
      "1 x 1 = 1 \n",
      "2 x 1 = 2 2 x 2 = 4 \n",
      "3 x 1 = 3 3 x 2 = 6 3 x 3 = 9 \n",
      "4 x 1 = 4 4 x 2 = 8 4 x 3 = 12 4 x 4 = 16 \n",
      "5 x 1 = 5 5 x 2 = 10 5 x 3 = 15 5 x 4 = 20 5 x 5 = 25 \n",
      "6 x 1 = 6 6 x 2 = 12 6 x 3 = 18 6 x 4 = 24 6 x 5 = 30 6 x 6 = 36 \n",
      "7 x 1 = 7 7 x 2 = 14 7 x 3 = 21 7 x 4 = 28 7 x 5 = 35 7 x 6 = 42 7 x 7 = 49 \n",
      "8 x 1 = 8 8 x 2 = 16 8 x 3 = 24 8 x 4 = 32 8 x 5 = 40 8 x 6 = 48 8 x 7 = 56 8 x 8 = 64 \n",
      "9 x 1 = 9 9 x 2 = 18 9 x 3 = 27 9 x 4 = 36 9 x 5 = 45 9 x 6 = 54 9 x 7 = 63 9 x 8 = 72 9 x 9 = 81 \n"
     ]
    }
   ],
   "source": [
    "for i in range(1,10):\n",
    "    for a in range(1,i+1):\n",
    "        A=i*a\n",
    "        print(i,'x',a,'=',A,end=' ')\n",
    "    print()"
   ]
  },
  {
   "cell_type": "code",
   "execution_count": 13,
   "metadata": {},
   "outputs": [
    {
     "ename": "IndentationError",
     "evalue": "expected an indented block (<ipython-input-13-cf9807b138e8>, line 4)",
     "output_type": "error",
     "traceback": [
      "\u001b[1;36m  File \u001b[1;32m\"<ipython-input-13-cf9807b138e8>\"\u001b[1;36m, line \u001b[1;32m4\u001b[0m\n\u001b[1;33m    else:\u001b[0m\n\u001b[1;37m       ^\u001b[0m\n\u001b[1;31mIndentationError\u001b[0m\u001b[1;31m:\u001b[0m expected an indented block\n"
     ]
    }
   ],
   "source": [
    "for i in range(2,51):\n",
    "    for j in range(2,51):\n",
    "        if i%j==0:\n",
    "        else:\n",
    "            print(i)"
   ]
  },
  {
   "cell_type": "code",
   "execution_count": 14,
   "metadata": {},
   "outputs": [
    {
     "name": "stdout",
     "output_type": "stream",
     "text": [
      "2\n",
      "3\n",
      "5\n",
      "7\n",
      "11\n",
      "13\n",
      "17\n",
      "19\n",
      "23\n",
      "29\n",
      "31\n",
      "37\n",
      "41\n",
      "43\n",
      "47\n"
     ]
    }
   ],
   "source": [
    "for i in range(2,50):\n",
    "    for j in range(2,i):\n",
    "        if i%j == 0:\n",
    "            break\n",
    "    else:\n",
    "        print (i)"
   ]
  },
  {
   "cell_type": "markdown",
   "metadata": {},
   "source": [
    "## 关键字 break 和 continue\n",
    "- break 跳出循环，终止循环\n",
    "- continue 跳出此次循环，继续执行"
   ]
  },
  {
   "cell_type": "markdown",
   "metadata": {},
   "source": [
    "## 注意\n",
    "![](../Photo/56.png)\n",
    "![](../Photo/57.png)"
   ]
  },
  {
   "cell_type": "markdown",
   "metadata": {},
   "source": [
    "# Homework\n",
    "- 1 \n",
    "![](../Photo/58.png)"
   ]
  },
  {
   "cell_type": "code",
   "execution_count": null,
   "metadata": {},
   "outputs": [],
   "source": []
  },
  {
   "cell_type": "markdown",
   "metadata": {},
   "source": [
    "- 2\n",
    "![](../Photo/59.png)"
   ]
  },
  {
   "cell_type": "code",
   "execution_count": 6,
   "metadata": {},
   "outputs": [
    {
     "name": "stdout",
     "output_type": "stream",
     "text": [
      "15513.282159785156\n"
     ]
    }
   ],
   "source": [
    "money = 10000\n",
    "for i in range(1,11):\n",
    "    if i < 10:\n",
    "        money += money*5/100\n",
    "        i += 1\n",
    "print(money)"
   ]
  },
  {
   "cell_type": "markdown",
   "metadata": {},
   "source": [
    "- 4\n",
    "![](../Photo/60.png)"
   ]
  },
  {
   "cell_type": "code",
   "execution_count": 13,
   "metadata": {},
   "outputs": [
    {
     "name": "stdout",
     "output_type": "stream",
     "text": [
      "120 150 180 210 240 270 300 330 360 390 \n",
      "\n",
      "420 450 480 510 540 570 600 630 660 690 \n",
      "\n",
      "720 750 780 810 840 870 900 930 960 990 \n",
      "\n"
     ]
    }
   ],
   "source": [
    "j=0\n",
    "for i in range (100,1000):\n",
    "    if i%5==0 and i%6==0:\n",
    "        print(i,end=' ')\n",
    "        j += 1\n",
    "        if j%10==0:\n",
    "            print('\\n')"
   ]
  },
  {
   "cell_type": "markdown",
   "metadata": {},
   "source": [
    "- 5\n",
    "![](../Photo/61.png)"
   ]
  },
  {
   "cell_type": "code",
   "execution_count": 41,
   "metadata": {},
   "outputs": [
    {
     "name": "stdout",
     "output_type": "stream",
     "text": [
      "110\n"
     ]
    }
   ],
   "source": [
    "n=1\n",
    "while n*n<12000:\n",
    "    n=n+1\n",
    "    continue\n",
    "print(n)"
   ]
  },
  {
   "cell_type": "code",
   "execution_count": 1,
   "metadata": {},
   "outputs": [
    {
     "name": "stdout",
     "output_type": "stream",
     "text": [
      "22\n"
     ]
    }
   ],
   "source": [
    "n=1\n",
    "while n*n*n<12000:\n",
    "    n=n+1\n",
    "    continue\n",
    "print(n-1)"
   ]
  },
  {
   "cell_type": "markdown",
   "metadata": {},
   "source": [
    "- 6\n",
    "![](../Photo/62.png)"
   ]
  },
  {
   "cell_type": "markdown",
   "metadata": {},
   "source": [
    "- 7\n",
    "![](../Photo/63.png)"
   ]
  },
  {
   "cell_type": "code",
   "execution_count": 2,
   "metadata": {},
   "outputs": [
    {
     "name": "stdout",
     "output_type": "stream",
     "text": [
      "11.397003949278504\n",
      "11.397003949278519\n",
      "11.397003949278504 小于 11.397003949278519\n"
     ]
    }
   ],
   "source": [
    "sum = 0\n",
    "for i in range(1,50001,1):\n",
    "    sum = sum + 1/i\n",
    "print(sum)\n",
    "sum_ = 0\n",
    "for i in range(50000,0,-1):\n",
    "    sum_ = sum_+1/i\n",
    "print(sum_)\n",
    "if sum > sum_:\n",
    "    print(sum,'大于',sum_)\n",
    "else:\n",
    "    print(sum,'小于',sum_)"
   ]
  },
  {
   "cell_type": "markdown",
   "metadata": {},
   "source": [
    "- 8\n",
    "![](../Photo/64.png)"
   ]
  },
  {
   "cell_type": "code",
   "execution_count": 43,
   "metadata": {},
   "outputs": [
    {
     "name": "stdout",
     "output_type": "stream",
     "text": [
      "45.124450303050196\n"
     ]
    }
   ],
   "source": [
    "sum = 0\n",
    "i = 1\n",
    "while i<98:\n",
    "    sum = sum+i/(i+2)\n",
    "    i=i+2\n",
    "print(sum)"
   ]
  },
  {
   "cell_type": "markdown",
   "metadata": {},
   "source": [
    "- 9\n",
    "![](../Photo/65.png)"
   ]
  },
  {
   "cell_type": "code",
   "execution_count": 3,
   "metadata": {},
   "outputs": [
    {
     "name": "stdout",
     "output_type": "stream",
     "text": [
      "3.1415916535897743\n"
     ]
    }
   ],
   "source": [
    "sum = 0\n",
    "i = 1\n",
    "for i in range(1,1000001,1):\n",
    "    sum = sum+(((-1)**(i+1))/(2*i-1))*4\n",
    "print(sum)"
   ]
  },
  {
   "cell_type": "markdown",
   "metadata": {},
   "source": [
    "- 10 \n",
    "![](../Photo/66.png)"
   ]
  },
  {
   "cell_type": "code",
   "execution_count": 40,
   "metadata": {},
   "outputs": [
    {
     "name": "stdout",
     "output_type": "stream",
     "text": [
      "6\n",
      "28\n",
      "496\n",
      "8128\n"
     ]
    }
   ],
   "source": [
    "for i in range(1,10000):\n",
    "    j=0\n",
    "    for k in range(1,i):\n",
    "        if i%k==0:\n",
    "            j=j+k\n",
    "    if i==j:\n",
    "        print(i)          \n",
    "            "
   ]
  },
  {
   "cell_type": "markdown",
   "metadata": {},
   "source": [
    "- 11\n",
    "![](../Photo/67.png)"
   ]
  },
  {
   "cell_type": "code",
   "execution_count": 27,
   "metadata": {},
   "outputs": [
    {
     "name": "stdout",
     "output_type": "stream",
     "text": [
      "[[1, 2], [1, 3], [1, 4], [1, 5], [1, 6], [1, 7], [2, 3], [2, 4], [2, 5], [2, 6], [2, 7], [3, 4], [3, 5], [3, 6], [3, 7], [4, 5], [4, 6], [4, 7], [5, 6], [5, 7], [6, 7]]\n",
      "21\n"
     ]
    }
   ],
   "source": [
    "tmp=[]\n",
    "for i in range(1,8):\n",
    "    for j in range(1,8):\n",
    "        if i!=j and sorted([i,j]) not in tmp:\n",
    "            tmp.append([i,j])\n",
    "print(tmp)\n",
    "print(len(tmp))"
   ]
  },
  {
   "cell_type": "markdown",
   "metadata": {},
   "source": [
    "- 12\n",
    "![](../Photo/68.png)"
   ]
  },
  {
   "cell_type": "code",
   "execution_count": 3,
   "metadata": {
    "scrolled": true
   },
   "outputs": [
    {
     "name": "stdout",
     "output_type": "stream",
     "text": [
      "注意：请输入十个数据\n",
      "请输入数据1\n",
      "请输入数据2\n",
      "请输入数据3\n",
      "请输入数据5.5\n",
      "请输入数据5.6\n",
      "请输入数据6\n",
      "请输入数据7\n",
      "请输入数据8\n",
      "请输入数据9\n",
      "请输入数据10\n",
      "5.71\n",
      "6.583481011001868\n"
     ]
    }
   ],
   "source": [
    "print('注意：请输入十个数据')\n",
    "a=eval(input('请输入数据'))\n",
    "b=eval(input('请输入数据'))\n",
    "c=eval(input('请输入数据'))\n",
    "d=eval(input('请输入数据'))\n",
    "e=eval(input('请输入数据'))\n",
    "f=eval(input('请输入数据'))\n",
    "g=eval(input('请输入数据'))\n",
    "h=eval(input('请输入数据'))\n",
    "i=eval(input('请输入数据'))\n",
    "j=eval(input('请输入数据'))\n",
    "mean=(a+b+c+d+e+f+g+h+i+j)/10\n",
    "A=a**2+b**2+c**2+d**2+e**2+f**2+g**2+h**2+i**2+j**2\n",
    "B=(a+b+c+d+e+f+g+h+i+j)**2\n",
    "deviation=(A-B/9)**0.5\n",
    "print(mean)\n",
    "print(deviation)"
   ]
  },
  {
   "cell_type": "code",
   "execution_count": null,
   "metadata": {},
   "outputs": [],
   "source": []
  }
 ],
 "metadata": {
  "kernelspec": {
   "display_name": "Python 3",
   "language": "python",
   "name": "python3"
  },
  "language_info": {
   "codemirror_mode": {
    "name": "ipython",
    "version": 3
   },
   "file_extension": ".py",
   "mimetype": "text/x-python",
   "name": "python",
   "nbconvert_exporter": "python",
   "pygments_lexer": "ipython3",
   "version": "3.7.3"
  }
 },
 "nbformat": 4,
 "nbformat_minor": 2
}
